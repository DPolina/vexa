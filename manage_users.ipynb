{
 "cells": [
  {
   "cell_type": "code",
   "execution_count": 3,
   "metadata": {},
   "outputs": [],
   "source": [
    "# Load environment variables from .env file\n",
    "from dotenv import load_dotenv\n",
    "\n",
    "# Load .env file\n",
    "load_dotenv()\n",
    "import random\n",
    "\n",
    "import os\n",
    "from vexa_client import VexaClient\n",
    "\n",
    "import os\n",
    "TOKEN = os.getenv('ADMIN_API_TOKEN')\n",
    "url = \"http://localhost:18057\"\n",
    "client = VexaClient(\n",
    "    base_url=url,\n",
    "    admin_key=TOKEN  # From docker-compose.yml\n",
    ")"
   ]
  },
  {
   "cell_type": "code",
   "execution_count": 4,
   "metadata": {},
   "outputs": [],
   "source": [
    "# Assuming 'client' is an instance of VexaClient with a valid admin_key\n",
    "target_email = \"playsdev.vexa@gmail.com\"  # Replace with the actual email\n",
    "new_max_bots = 5              # Replace with the desired maximum"
   ]
  },
  {
   "cell_type": "code",
   "execution_count": 5,
   "metadata": {},
   "outputs": [
    {
     "name": "stdout",
     "output_type": "stream",
     "text": [
      "\n",
      "DEBUG: Making GET request to http://localhost:18057/admin/users/email/playsdev.vexa@gmail.com\n",
      "DEBUG: Headers: {'Content-Type': 'application/json', 'X-Admin-API-Key': 'super-secret-vexa-token'}\n",
      "DEBUG: Params: None\n",
      "DEBUG: JSON data: None\n",
      "DEBUG: Response status: 200\n",
      "DEBUG: Response headers: {'date': 'Wed, 06 Aug 2025 12:34:58 GMT', 'server': 'uvicorn', 'content-length': '233', 'content-type': 'application/json'}\n",
      "DEBUG: Response content: {\"email\":\"playsdev.vexa@gmail.com\",\"name\":\"playsdev-vexa\",\"image_url\":null,\"max_concurrent_bots\":500,\"data\":{\"webhook_url\":\"https://webhook-test.com/e79be735cf3e9bc0c98ca068beaac1f3\"},\"id\":1,\"created_at\":\"2025-07-30T09:53:21.126956\"}...\n"
     ]
    }
   ],
   "source": [
    "user_id = client.get_user_by_email(target_email)['id']"
   ]
  },
  {
   "cell_type": "code",
   "execution_count": 6,
   "metadata": {},
   "outputs": [
    {
     "name": "stdout",
     "output_type": "stream",
     "text": [
      "\n",
      "DEBUG: Making PATCH request to http://localhost:18057/admin/users/1\n",
      "DEBUG: Headers: {'Content-Type': 'application/json', 'X-Admin-API-Key': 'super-secret-vexa-token'}\n",
      "DEBUG: Params: None\n",
      "DEBUG: JSON data: {'max_concurrent_bots': 5}\n",
      "DEBUG: Response status: 200\n",
      "DEBUG: Response headers: {'date': 'Wed, 06 Aug 2025 12:35:01 GMT', 'server': 'uvicorn', 'content-length': '231', 'content-type': 'application/json'}\n",
      "DEBUG: Response content: {\"email\":\"playsdev.vexa@gmail.com\",\"name\":\"playsdev-vexa\",\"image_url\":null,\"max_concurrent_bots\":5,\"data\":{\"webhook_url\":\"https://webhook-test.com/e79be735cf3e9bc0c98ca068beaac1f3\"},\"id\":1,\"created_at\":\"2025-07-30T09:53:21.126956\"}...\n",
      "Successfully updated user playsdev.vexa@gmail.com (ID: 1): {'email': 'playsdev.vexa@gmail.com', 'name': 'playsdev-vexa', 'image_url': None, 'max_concurrent_bots': 5, 'data': {'webhook_url': 'https://webhook-test.com/e79be735cf3e9bc0c98ca068beaac1f3'}, 'id': 1, 'created_at': '2025-07-30T09:53:21.126956'}\n"
     ]
    }
   ],
   "source": [
    "\n",
    "updated_user_info = client.update_user(\n",
    "    user_id=user_id,\n",
    "    max_concurrent_bots=new_max_bots\n",
    ")\n",
    "print(f\"Successfully updated user {target_email} (ID: {user_id}): {updated_user_info}\")\n"
   ]
  },
  {
   "cell_type": "code",
   "execution_count": null,
   "metadata": {},
   "outputs": [],
   "source": [
    "# Assuming 'client' is an instance of VexaClient with a valid admin_key\n",
    "user_id_to_update = 123  # Replace with the actual user ID\n",
    "new_max_bots = 10       # Replace with the desired maximum number of concurrent bots\n",
    "\n",
    "try:\n",
    "    updated_user_info = client.update_user(\n",
    "        user_id=user_id_to_update,\n",
    "        max_concurrent_bots=new_max_bots\n",
    "    )\n",
    "    print(f\"Successfully updated user {user_id_to_update}: {updated_user_info}\")\n",
    "except VexaClientError as e:\n",
    "    print(f\"Error updating user: {e}\")"
   ]
  }
 ],
 "metadata": {
  "kernelspec": {
   "display_name": "venv",
   "language": "python",
   "name": "python3"
  },
  "language_info": {
   "codemirror_mode": {
    "name": "ipython",
    "version": 3
   },
   "file_extension": ".py",
   "mimetype": "text/x-python",
   "name": "python",
   "nbconvert_exporter": "python",
   "pygments_lexer": "ipython3",
   "version": "3.12.3"
  }
 },
 "nbformat": 4,
 "nbformat_minor": 2
}
